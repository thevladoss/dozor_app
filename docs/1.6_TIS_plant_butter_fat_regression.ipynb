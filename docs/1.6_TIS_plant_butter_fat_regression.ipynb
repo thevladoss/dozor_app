{
 "cells": [
  {
   "cell_type": "code",
   "execution_count": 1,
   "metadata": {},
   "outputs": [],
   "source": [
    "import pandas as pd"
   ]
  },
  {
   "cell_type": "code",
   "execution_count": 3,
   "metadata": {},
   "outputs": [
    {
     "data": {
      "text/html": [
       "<div>\n",
       "<style scoped>\n",
       "    .dataframe tbody tr th:only-of-type {\n",
       "        vertical-align: middle;\n",
       "    }\n",
       "\n",
       "    .dataframe tbody tr th {\n",
       "        vertical-align: top;\n",
       "    }\n",
       "\n",
       "    .dataframe thead th {\n",
       "        text-align: right;\n",
       "    }\n",
       "</style>\n",
       "<table border=\"1\" class=\"dataframe\">\n",
       "  <thead>\n",
       "    <tr style=\"text-align: right;\">\n",
       "      <th></th>\n",
       "      <th>R</th>\n",
       "      <th>G</th>\n",
       "      <th>B</th>\n",
       "      <th>y</th>\n",
       "    </tr>\n",
       "  </thead>\n",
       "  <tbody>\n",
       "    <tr>\n",
       "      <th>0</th>\n",
       "      <td>255</td>\n",
       "      <td>149</td>\n",
       "      <td>77</td>\n",
       "      <td>1.0</td>\n",
       "    </tr>\n",
       "    <tr>\n",
       "      <th>1</th>\n",
       "      <td>255</td>\n",
       "      <td>168</td>\n",
       "      <td>63</td>\n",
       "      <td>1.0</td>\n",
       "    </tr>\n",
       "    <tr>\n",
       "      <th>2</th>\n",
       "      <td>255</td>\n",
       "      <td>167</td>\n",
       "      <td>77</td>\n",
       "      <td>0.9</td>\n",
       "    </tr>\n",
       "    <tr>\n",
       "      <th>3</th>\n",
       "      <td>253</td>\n",
       "      <td>169</td>\n",
       "      <td>83</td>\n",
       "      <td>0.9</td>\n",
       "    </tr>\n",
       "    <tr>\n",
       "      <th>4</th>\n",
       "      <td>255</td>\n",
       "      <td>170</td>\n",
       "      <td>90</td>\n",
       "      <td>0.8</td>\n",
       "    </tr>\n",
       "  </tbody>\n",
       "</table>\n",
       "</div>"
      ],
      "text/plain": [
       "     R    G   B    y\n",
       "0  255  149  77  1.0\n",
       "1  255  168  63  1.0\n",
       "2  255  167  77  0.9\n",
       "3  253  169  83  0.9\n",
       "4  255  170  90  0.8"
      ]
     },
     "execution_count": 3,
     "metadata": {},
     "output_type": "execute_result"
    }
   ],
   "source": [
    "# Read the data\n",
    "df = pd.read_csv('../data/plant_butter/raw_regression.csv')\n",
    "df.head()"
   ]
  },
  {
   "cell_type": "code",
   "execution_count": 4,
   "metadata": {},
   "outputs": [],
   "source": [
    "df_x = df.drop('y', axis=1)\n",
    "df_y = df['y']"
   ]
  },
  {
   "cell_type": "code",
   "execution_count": 5,
   "metadata": {},
   "outputs": [
    {
     "data": {
      "text/html": [
       "<div>\n",
       "<style scoped>\n",
       "    .dataframe tbody tr th:only-of-type {\n",
       "        vertical-align: middle;\n",
       "    }\n",
       "\n",
       "    .dataframe tbody tr th {\n",
       "        vertical-align: top;\n",
       "    }\n",
       "\n",
       "    .dataframe thead th {\n",
       "        text-align: right;\n",
       "    }\n",
       "</style>\n",
       "<table border=\"1\" class=\"dataframe\">\n",
       "  <thead>\n",
       "    <tr style=\"text-align: right;\">\n",
       "      <th></th>\n",
       "      <th>R</th>\n",
       "      <th>G</th>\n",
       "      <th>B</th>\n",
       "    </tr>\n",
       "  </thead>\n",
       "  <tbody>\n",
       "    <tr>\n",
       "      <th>0</th>\n",
       "      <td>0.646732</td>\n",
       "      <td>-1.635498</td>\n",
       "      <td>-1.190862</td>\n",
       "    </tr>\n",
       "    <tr>\n",
       "      <th>1</th>\n",
       "      <td>0.646732</td>\n",
       "      <td>-0.704111</td>\n",
       "      <td>-1.405734</td>\n",
       "    </tr>\n",
       "    <tr>\n",
       "      <th>2</th>\n",
       "      <td>0.646732</td>\n",
       "      <td>-0.753131</td>\n",
       "      <td>-1.190862</td>\n",
       "    </tr>\n",
       "    <tr>\n",
       "      <th>3</th>\n",
       "      <td>0.614866</td>\n",
       "      <td>-0.655090</td>\n",
       "      <td>-1.098774</td>\n",
       "    </tr>\n",
       "    <tr>\n",
       "      <th>4</th>\n",
       "      <td>0.646732</td>\n",
       "      <td>-0.606070</td>\n",
       "      <td>-0.991339</td>\n",
       "    </tr>\n",
       "  </tbody>\n",
       "</table>\n",
       "</div>"
      ],
      "text/plain": [
       "          R         G         B\n",
       "0  0.646732 -1.635498 -1.190862\n",
       "1  0.646732 -0.704111 -1.405734\n",
       "2  0.646732 -0.753131 -1.190862\n",
       "3  0.614866 -0.655090 -1.098774\n",
       "4  0.646732 -0.606070 -0.991339"
      ]
     },
     "execution_count": 5,
     "metadata": {},
     "output_type": "execute_result"
    }
   ],
   "source": [
    "# Normalize\n",
    "def normalize(df):\n",
    "    std = df.std()\n",
    "    mean = df.mean()\n",
    "    df = (df - mean) / std\n",
    "    return df, std, mean\n",
    "\n",
    "df_x, std, mean = normalize(df_x)\n",
    "df_x.head()"
   ]
  },
  {
   "cell_type": "code",
   "execution_count": 6,
   "metadata": {},
   "outputs": [
    {
     "data": {
      "text/html": [
       "<div>\n",
       "<style scoped>\n",
       "    .dataframe tbody tr th:only-of-type {\n",
       "        vertical-align: middle;\n",
       "    }\n",
       "\n",
       "    .dataframe tbody tr th {\n",
       "        vertical-align: top;\n",
       "    }\n",
       "\n",
       "    .dataframe thead th {\n",
       "        text-align: right;\n",
       "    }\n",
       "</style>\n",
       "<table border=\"1\" class=\"dataframe\">\n",
       "  <thead>\n",
       "    <tr style=\"text-align: right;\">\n",
       "      <th></th>\n",
       "      <th>x1</th>\n",
       "      <th>x2</th>\n",
       "    </tr>\n",
       "  </thead>\n",
       "  <tbody>\n",
       "    <tr>\n",
       "      <th>0</th>\n",
       "      <td>-2.019753</td>\n",
       "      <td>0.628886</td>\n",
       "    </tr>\n",
       "    <tr>\n",
       "      <th>1</th>\n",
       "      <td>-1.610199</td>\n",
       "      <td>0.146063</td>\n",
       "    </tr>\n",
       "    <tr>\n",
       "      <th>2</th>\n",
       "      <td>-1.509019</td>\n",
       "      <td>0.132392</td>\n",
       "    </tr>\n",
       "    <tr>\n",
       "      <th>3</th>\n",
       "      <td>-1.379252</td>\n",
       "      <td>0.085169</td>\n",
       "    </tr>\n",
       "    <tr>\n",
       "      <th>4</th>\n",
       "      <td>-1.303596</td>\n",
       "      <td>0.011337</td>\n",
       "    </tr>\n",
       "  </tbody>\n",
       "</table>\n",
       "</div>"
      ],
      "text/plain": [
       "         x1        x2\n",
       "0 -2.019753  0.628886\n",
       "1 -1.610199  0.146063\n",
       "2 -1.509019  0.132392\n",
       "3 -1.379252  0.085169\n",
       "4 -1.303596  0.011337"
      ]
     },
     "execution_count": 6,
     "metadata": {},
     "output_type": "execute_result"
    }
   ],
   "source": [
    "# PCA\n",
    "from sklearn.decomposition import PCA\n",
    "\n",
    "pca = PCA(n_components=2)\n",
    "pca.fit(df_x)\n",
    "df_x_pca = pca.transform(df_x)\n",
    "df_x_pca = pd.DataFrame(df_x_pca, columns=['x1', 'x2'])\n",
    "df_x_pca.head()"
   ]
  },
  {
   "cell_type": "code",
   "execution_count": 34,
   "metadata": {},
   "outputs": [
    {
     "data": {
      "text/plain": [
       "array([[-0.5490246 ,  0.57882346,  0.60293896],\n",
       "       [-0.80406849, -0.5626842 , -0.19199051]])"
      ]
     },
     "execution_count": 34,
     "metadata": {},
     "output_type": "execute_result"
    }
   ],
   "source": [
    "# PCA coefs\n",
    "pca.components_"
   ]
  },
  {
   "cell_type": "code",
   "execution_count": 35,
   "metadata": {},
   "outputs": [
    {
     "data": {
      "text/plain": [
       "(R    214.409091\n",
       " G    182.363636\n",
       " B    154.590909\n",
       " dtype: float64,\n",
       " R    62.763091\n",
       " G    20.399686\n",
       " B    65.155243\n",
       " dtype: float64)"
      ]
     },
     "execution_count": 35,
     "metadata": {},
     "output_type": "execute_result"
    }
   ],
   "source": [
    "# mean and std\n",
    "mean, std"
   ]
  },
  {
   "cell_type": "code",
   "execution_count": 11,
   "metadata": {},
   "outputs": [],
   "source": [
    "# Plot PCA data\n",
    "# Plot PCA\n",
    "import matplotlib.pyplot as plt\n",
    "def pca_plot(df_x_pca, df_y, figsize=(5,5), colorbar=True, title=None, annotate=False):\n",
    "\n",
    "    plt.figure(figsize=(7,5))\n",
    "    plt.scatter(df_x_pca[:, 0], df_x_pca[:, 1], c=df_y, cmap='viridis')\n",
    "\n",
    "    # Grid and lines\n",
    "    plt.axhline(0, color='grey')\n",
    "    plt.axvline(0, color='grey')\n",
    "    plt.grid()\n",
    "    plt.xlabel('PC1')\n",
    "    plt.ylabel('PC2')\n",
    "\n",
    "    # Colorbar\n",
    "    if colorbar:\n",
    "        plt.colorbar()\n",
    "\n",
    "    # Title\n",
    "    if title:\n",
    "        plt.title(f'PCA: {title}')\n",
    "\n",
    "    # Write y for each point\n",
    "    if annotate:\n",
    "        for i, txt in enumerate(df_y):\n",
    "            plt.annotate(txt, (df_x_pca[i, 0]+0.05, df_x_pca[i, 1]+0.05))"
   ]
  },
  {
   "cell_type": "code",
   "execution_count": 12,
   "metadata": {},
   "outputs": [
    {
     "data": {
      "image/png": "[encoded data removed]",
      "text/plain": [
       "<Figure size 700x500 with 2 Axes>"
      ]
     },
     "metadata": {},
     "output_type": "display_data"
    }
   ],
   "source": [
    "pca_plot(df_x_pca.values, df_y.values, title='Plant butter fat regression')"
   ]
  },
  {
   "cell_type": "code",
   "execution_count": 30,
   "metadata": {},
   "outputs": [],
   "source": [
    "# import sklearn\n",
    "# sklearn.metrics.get_scorer_names()"
   ]
  },
  {
   "cell_type": "code",
   "execution_count": 25,
   "metadata": {},
   "outputs": [
    {
     "name": "stdout",
     "output_type": "stream",
     "text": [
      "CV scores: [-0.01575326 -0.00929833 -0.0257763  -0.01037838 -0.008976  ]\n",
      "Mean CV score: -0.01403645437452205\n"
     ]
    }
   ],
   "source": [
    "# Split data\n",
    "from sklearn.model_selection import train_test_split\n",
    "\n",
    "X_train, X_test, y_train, y_test = train_test_split(df_x_pca, df_y, test_size=0.2, random_state=42)\n",
    "\n",
    "# Cross validation\n",
    "from sklearn.model_selection import cross_val_score\n",
    "\n",
    "def cross_val(model, X, y, cv=5):\n",
    "    scores = cross_val_score(model, X, y, cv=cv, scoring='neg_mean_squared_error')\n",
    "    print(f'CV scores: {scores}')\n",
    "    print(f'Mean CV score: {scores.mean()}')\n",
    "\n",
    "# Linear regression\n",
    "from sklearn.linear_model import LinearRegression\n",
    "\n",
    "model = LinearRegression()\n",
    "model.fit(X_train, y_train)\n",
    "cross_val(model, X_train, y_train)"
   ]
  },
  {
   "cell_type": "code",
   "execution_count": 28,
   "metadata": {},
   "outputs": [
    {
     "name": "stdout",
     "output_type": "stream",
     "text": [
      "CV scores: [-0.01526038 -0.00969113 -0.0260312  -0.00767075 -0.0087656 ]\n",
      "Mean CV score: -0.013483811675157067\n"
     ]
    }
   ],
   "source": [
    "# Ridge regression\n",
    "from sklearn.linear_model import Ridge\n",
    "\n",
    "model = Ridge()\n",
    "model.fit(X_train, y_train)\n",
    "cross_val(model, X_train, y_train)"
   ]
  },
  {
   "cell_type": "code",
   "execution_count": 29,
   "metadata": {},
   "outputs": [
    {
     "name": "stdout",
     "output_type": "stream",
     "text": [
      "y = 0.49 + -0.17 * x1 + -0.03 * x2\n"
     ]
    }
   ],
   "source": [
    "# Print Ridge formula\n",
    "print(f'y = {model.intercept_:.2f} + {model.coef_[0]:.2f} * x1 + {model.coef_[1]:.2f} * x2')"
   ]
  },
  {
   "cell_type": "code",
   "execution_count": 27,
   "metadata": {},
   "outputs": [
    {
     "name": "stdout",
     "output_type": "stream",
     "text": [
      "CV scores: [-0.13860947 -0.08226331 -0.10129252 -0.09079932 -0.07319728]\n",
      "Mean CV score: -0.09723237934226944\n"
     ]
    }
   ],
   "source": [
    "# Lasso regression\n",
    "from sklearn.linear_model import Lasso\n",
    "\n",
    "model = Lasso()\n",
    "model.fit(X_train, y_train)\n",
    "cross_val(model, X_train, y_train)"
   ]
  },
  {
   "cell_type": "code",
   "execution_count": 32,
   "metadata": {},
   "outputs": [
    {
     "name": "stdout",
     "output_type": "stream",
     "text": [
      "CV scores: [-0.01536385 -0.00956306 -0.02588013 -0.00866519 -0.00882718]\n",
      "Mean CV score: -0.013659884174693725\n"
     ]
    }
   ],
   "source": [
    "# Beta regression\n",
    "from sklearn.linear_model import BayesianRidge\n",
    "\n",
    "model = BayesianRidge()\n",
    "model.fit(X_train, y_train)\n",
    "cross_val(model, X_train, y_train)\n"
   ]
  },
  {
   "cell_type": "code",
   "execution_count": null,
   "metadata": {},
   "outputs": [],
   "source": []
  }
 ],
 "metadata": {
  "kernelspec": {
   "display_name": "Python 3.9.13 ('py39')",
   "language": "python",
   "name": "python3"
  },
  "language_info": {
   "codemirror_mode": {
    "name": "ipython",
    "version": 3
   },
   "file_extension": ".py",
   "mimetype": "text/x-python",
   "name": "python",
   "nbconvert_exporter": "python",
   "pygments_lexer": "ipython3",
   "version": "3.9.13"
  },
  "orig_nbformat": 4,
  "vscode": {
   "interpreter": {
    "hash": "b1ff565e3597931078b1c740699c8d9fab8d699071f2fe19c95c8e8dcc80a919"
   }
  }
 },
 "nbformat": 4,
 "nbformat_minor": 2
}
